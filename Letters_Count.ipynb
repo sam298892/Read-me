{
  "nbformat": 4,
  "nbformat_minor": 0,
  "metadata": {
    "colab": {
      "name": "Letters Count.ipynb",
      "provenance": [],
      "collapsed_sections": [],
      "authorship_tag": "ABX9TyOTHfpfFE7oksVLlTPlykFw",
      "include_colab_link": true
    },
    "kernelspec": {
      "name": "python3",
      "display_name": "Python 3"
    },
    "language_info": {
      "name": "python"
    }
  },
  "cells": [
    {
      "cell_type": "markdown",
      "metadata": {
        "id": "view-in-github",
        "colab_type": "text"
      },
      "source": [
        "<a href=\"https://colab.research.google.com/github/sam298892/Read-me/blob/main/Letters_Count.ipynb\" target=\"_parent\"><img src=\"https://colab.research.google.com/assets/colab-badge.svg\" alt=\"Open In Colab\"/></a>"
      ]
    },
    {
      "cell_type": "code",
      "execution_count": 1,
      "metadata": {
        "colab": {
          "base_uri": "https://localhost:8080/"
        },
        "id": "r8CEBEpERN7F",
        "outputId": "dbb6fe59-b743-4e41-c44e-f375e6d2999c"
      },
      "outputs": [
        {
          "output_type": "stream",
          "name": "stdout",
          "text": [
            "Enter a sentence! :yes, now its okey!\n",
            "{'y': 2, 'e': 2, 's': 2, ',': 1, ' ': 3, 'n': 1, 'o': 2, 'w': 1, 'i': 1, 't': 1, 'k': 1, '!': 1}\n"
          ]
        }
      ],
      "source": [
        "word = input('Enter a sentence! :')\n",
        "dictt = {}\n",
        "for i in word :\n",
        "  dictt[i] = dictt.get(i, 0) + 1\n",
        "print(dictt)\n",
        " "
      ]
    },
    {
      "cell_type": "code",
      "source": [
        ""
      ],
      "metadata": {
        "id": "2mVREIm2RTbs"
      },
      "execution_count": 1,
      "outputs": []
    }
  ]
}