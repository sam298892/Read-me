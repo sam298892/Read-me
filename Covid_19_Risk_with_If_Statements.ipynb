{
  "nbformat": 4,
  "nbformat_minor": 0,
  "metadata": {
    "colab": {
      "name": "Covid-19 Risk with If Statements.ipynb",
      "provenance": [],
      "collapsed_sections": [],
      "authorship_tag": "ABX9TyPKKSnzq3Ml0lOWF5Rscd/3",
      "include_colab_link": true
    },
    "kernelspec": {
      "name": "python3",
      "display_name": "Python 3"
    },
    "language_info": {
      "name": "python"
    }
  },
  "cells": [
    {
      "cell_type": "markdown",
      "metadata": {
        "id": "view-in-github",
        "colab_type": "text"
      },
      "source": [
        "<a href=\"https://colab.research.google.com/github/sam298892/Read-me/blob/main/Covid_19_Risk_with_If_Statements.ipynb\" target=\"_parent\"><img src=\"https://colab.research.google.com/assets/colab-badge.svg\" alt=\"Open In Colab\"/></a>"
      ]
    },
    {
      "cell_type": "code",
      "execution_count": 1,
      "metadata": {
        "colab": {
          "base_uri": "https://localhost:8080/"
        },
        "id": "-L4Kc_JqTFKm",
        "outputId": "15c287b9-e3f0-40a6-e245-fec9804d449c"
      },
      "outputs": [
        {
          "output_type": "stream",
          "name": "stdout",
          "text": [
            "Are you a cigarette addict older than 75 years old?yes\n",
            "Do you have a severe chronic disease?yes\n",
            "Is your immune system too weak?yes\n",
            "Oh my god! You are in risky group\n"
          ]
        }
      ],
      "source": [
        "age = (input('Are you a cigarette addict older than 75 years old?'))\n",
        "chronic = input('Do you have a severe chronic disease?')\n",
        "immune = input('Is your immune system too weak?')\n",
        "\n",
        "if (age == 'yes' ) and (chronic == 'yes') and (immune == 'yes'):\n",
        "  print(\"Oh my god! You are in risky group\")\n",
        "else:\n",
        "  print(\"You are not in risky group\" ) "
      ]
    },
    {
      "cell_type": "code",
      "source": [
        ""
      ],
      "metadata": {
        "id": "PnS-5w2zTRLy"
      },
      "execution_count": null,
      "outputs": []
    }
  ]
}