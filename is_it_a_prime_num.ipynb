{
  "nbformat": 4,
  "nbformat_minor": 0,
  "metadata": {
    "colab": {
      "name": "is it a prime num.ipynb",
      "provenance": [],
      "authorship_tag": "ABX9TyOVSsEXgn7A3RuL+6cyX2IJ",
      "include_colab_link": true
    },
    "kernelspec": {
      "name": "python3",
      "display_name": "Python 3"
    },
    "language_info": {
      "name": "python"
    }
  },
  "cells": [
    {
      "cell_type": "markdown",
      "metadata": {
        "id": "view-in-github",
        "colab_type": "text"
      },
      "source": [
        "<a href=\"https://colab.research.google.com/github/sam298892/Read-me/blob/main/is_it_a_prime_num.ipynb\" target=\"_parent\"><img src=\"https://colab.research.google.com/assets/colab-badge.svg\" alt=\"Open In Colab\"/></a>"
      ]
    },
    {
      "cell_type": "code",
      "metadata": {
        "colab": {
          "base_uri": "https://localhost:8080/"
        },
        "id": "VIOu-A0CwS3d",
        "outputId": "811fa3c5-b9a8-481a-e412-9375e4628153"
      },
      "source": [
        "rakam = int(input('enter a number :'))\n",
        "count = 0\n",
        "\n",
        "for i in range(1, rakam+1) :\n",
        "  if rakam % i == 0:\n",
        "    count += 1 \n",
        "\n",
        "if (rakam == 0) or (rakam == 1) or (count >= 3) :\n",
        "  print(rakam, 'its not')\n",
        "\n",
        "else:\n",
        "  print(rakam, 'its a prime number')  "
      ],
      "execution_count": 1,
      "outputs": [
        {
          "output_type": "stream",
          "name": "stdout",
          "text": [
            "enter a number :7\n",
            "7 its a prime number\n"
          ]
        }
      ]
    },
    {
      "cell_type": "code",
      "metadata": {
        "id": "xihS3DU9wUo0"
      },
      "source": [
        ""
      ],
      "execution_count": null,
      "outputs": []
    }
  ]
}