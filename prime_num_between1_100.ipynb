{
  "nbformat": 4,
  "nbformat_minor": 0,
  "metadata": {
    "colab": {
      "name": "prime num.between1-100.ipynb",
      "provenance": [],
      "collapsed_sections": [],
      "authorship_tag": "ABX9TyNZPWmveo0Asx6vGzTo4d+k",
      "include_colab_link": true
    },
    "kernelspec": {
      "name": "python3",
      "display_name": "Python 3"
    },
    "language_info": {
      "name": "python"
    }
  },
  "cells": [
    {
      "cell_type": "markdown",
      "metadata": {
        "id": "view-in-github",
        "colab_type": "text"
      },
      "source": [
        "<a href=\"https://colab.research.google.com/github/sam298892/Read-me/blob/main/prime_num_between1_100.ipynb\" target=\"_parent\"><img src=\"https://colab.research.google.com/assets/colab-badge.svg\" alt=\"Open In Colab\"/></a>"
      ]
    },
    {
      "cell_type": "code",
      "metadata": {
        "id": "M9wNfYGzzCh5",
        "colab": {
          "base_uri": "https://localhost:8080/"
        },
        "outputId": "90e49989-039e-49b0-9365-61d86bdaed58"
      },
      "source": [
        "for sayi in range(1, 101):  \n",
        "   if sayi > 1:  \n",
        "       for i in range(2,sayi):  \n",
        "           if (sayi % i) == 0:  \n",
        "               break  \n",
        "       else:  \n",
        "           print(sayi, end=', ')  "
      ],
      "execution_count": 10,
      "outputs": [
        {
          "output_type": "stream",
          "name": "stdout",
          "text": [
            "2, 3, 5, 7, 11, 13, 17, 19, 23, 29, 31, 37, 41, 43, 47, 53, 59, 61, 67, 71, 73, 79, 83, 89, 97, "
          ]
        }
      ]
    },
    {
      "cell_type": "code",
      "metadata": {
        "id": "z3L5qtmO0Eb2"
      },
      "source": [
        ""
      ],
      "execution_count": null,
      "outputs": []
    }
  ]
}