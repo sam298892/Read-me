{
  "nbformat": 4,
  "nbformat_minor": 0,
  "metadata": {
    "colab": {
      "name": "Password Reminder.ipynb",
      "provenance": [],
      "authorship_tag": "ABX9TyNX8LXCHlXg1+nEfZupFfbL",
      "include_colab_link": true
    },
    "kernelspec": {
      "name": "python3",
      "display_name": "Python 3"
    },
    "language_info": {
      "name": "python"
    }
  },
  "cells": [
    {
      "cell_type": "markdown",
      "metadata": {
        "id": "view-in-github",
        "colab_type": "text"
      },
      "source": [
        "<a href=\"https://colab.research.google.com/github/sam298892/Read-me/blob/main/Password_Reminder.ipynb\" target=\"_parent\"><img src=\"https://colab.research.google.com/assets/colab-badge.svg\" alt=\"Open In Colab\"/></a>"
      ]
    },
    {
      "cell_type": "code",
      "execution_count": 1,
      "metadata": {
        "colab": {
          "base_uri": "https://localhost:8080/"
        },
        "id": "ULDtSelSUdS4",
        "outputId": "d43e5a13-3c1f-44da-e9ef-985d13d0b776"
      },
      "outputs": [
        {
          "output_type": "stream",
          "name": "stdout",
          "text": [
            "write your name to enterkaial\n",
            "Hello kaial See you later.\n"
          ]
        }
      ],
      "source": [
        "name = 'kalamar'\n",
        "password = 'W@12'\n",
        "ask_name = input('write your name to enter')\n",
        "if ask_name == name:\n",
        "  print(\"Hello\", ask_name,  \"The password is :\", password)\n",
        "else:\n",
        "  print(\"Hello\", ask_name, \"See you later.\")  "
      ]
    },
    {
      "cell_type": "code",
      "source": [
        ""
      ],
      "metadata": {
        "id": "HVWpHSq_UeZM"
      },
      "execution_count": null,
      "outputs": []
    }
  ]
}