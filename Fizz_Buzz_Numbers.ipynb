{
  "nbformat": 4,
  "nbformat_minor": 0,
  "metadata": {
    "colab": {
      "name": "Fizz - Buzz Numbers.ipynb",
      "provenance": [],
      "authorship_tag": "ABX9TyNV/L0N+3tRu9BOrJCTY4p0",
      "include_colab_link": true
    },
    "kernelspec": {
      "name": "python3",
      "display_name": "Python 3"
    },
    "language_info": {
      "name": "python"
    }
  },
  "cells": [
    {
      "cell_type": "markdown",
      "metadata": {
        "id": "view-in-github",
        "colab_type": "text"
      },
      "source": [
        "<a href=\"https://colab.research.google.com/github/sam298892/Read-me/blob/main/Fizz_Buzz_Numbers.ipynb\" target=\"_parent\"><img src=\"https://colab.research.google.com/assets/colab-badge.svg\" alt=\"Open In Colab\"/></a>"
      ]
    },
    {
      "cell_type": "code",
      "execution_count": 1,
      "metadata": {
        "colab": {
          "base_uri": "https://localhost:8080/"
        },
        "id": "h3Q58YemcefU",
        "outputId": "ee892187-e03b-486a-edd3-ec434ebcbb9c"
      },
      "outputs": [
        {
          "output_type": "stream",
          "name": "stdout",
          "text": [
            "1\n",
            "2\n",
            "3 fizz\n",
            "4\n",
            "5 buzz\n",
            "6 fizz\n",
            "7\n",
            "8\n",
            "9 fizz\n",
            "10 buzz\n",
            "11\n",
            "12 fizz\n",
            "13\n",
            "14\n",
            "15 fizzbuzz\n",
            "16\n",
            "17\n",
            "18 fizz\n",
            "19\n",
            "20 buzz\n",
            "21 fizz\n",
            "22\n",
            "23\n",
            "24 fizz\n",
            "25 buzz\n",
            "26\n",
            "27 fizz\n",
            "28\n",
            "29\n",
            "30 fizzbuzz\n",
            "31\n",
            "32\n",
            "33 fizz\n",
            "34\n",
            "35 buzz\n",
            "36 fizz\n",
            "37\n",
            "38\n",
            "39 fizz\n",
            "40 buzz\n",
            "41\n",
            "42 fizz\n",
            "43\n",
            "44\n",
            "45 fizzbuzz\n",
            "46\n",
            "47\n",
            "48 fizz\n",
            "49\n",
            "50 buzz\n",
            "51 fizz\n",
            "52\n",
            "53\n",
            "54 fizz\n",
            "55 buzz\n",
            "56\n",
            "57 fizz\n",
            "58\n",
            "59\n",
            "60 fizzbuzz\n",
            "61\n",
            "62\n",
            "63 fizz\n",
            "64\n",
            "65 buzz\n",
            "66 fizz\n",
            "67\n",
            "68\n",
            "69 fizz\n",
            "70 buzz\n",
            "71\n",
            "72 fizz\n",
            "73\n",
            "74\n",
            "75 fizzbuzz\n",
            "76\n",
            "77\n",
            "78 fizz\n",
            "79\n",
            "80 buzz\n",
            "81 fizz\n",
            "82\n",
            "83\n",
            "84 fizz\n",
            "85 buzz\n",
            "86\n",
            "87 fizz\n",
            "88\n",
            "89\n",
            "90 fizzbuzz\n",
            "91\n",
            "92\n",
            "93 fizz\n",
            "94\n",
            "95 buzz\n",
            "96 fizz\n",
            "97\n",
            "98\n",
            "99 fizz\n"
          ]
        }
      ],
      "source": [
        "for i in range(1,100) :\n",
        "  if (i % 3 == 0) and (i % 5 == 0):\n",
        "    print(i, 'fizzbuzz')\n",
        "  elif i % 5 == 0 :\n",
        "    print(i, 'buzz')\n",
        "  elif i % 3 == 0 :\n",
        "    print(i, 'fizz')  \n",
        "  else:\n",
        "    print(i)  \n"
      ]
    },
    {
      "cell_type": "code",
      "source": [
        "fizz = []\n",
        "buzz = []\n",
        "fizzbuzz = []\n",
        "rest_num = []\n",
        "\n",
        "for i in range(1,100) :\n",
        "  if (i % 3 == 0) and (i % 5 == 0):\n",
        "    fizzbuzz.append(i)\n",
        "  elif i % 5 == 0 :\n",
        "    buzz.append(i)\n",
        "  elif i % 3 == 0 :\n",
        "    fizz.append(i)\n",
        "  else:\n",
        "    rest_num.append(i)\n",
        "print(fizzbuzz)\n",
        "print(fizz)\n",
        "print(buzz)\n",
        "print(rest_num)\n"
      ],
      "metadata": {
        "colab": {
          "base_uri": "https://localhost:8080/"
        },
        "id": "W8_4CnJwgxmT",
        "outputId": "a989d61f-1091-48e8-9423-b9123950ef9f"
      },
      "execution_count": 2,
      "outputs": [
        {
          "output_type": "stream",
          "name": "stdout",
          "text": [
            "[15, 30, 45, 60, 75, 90]\n",
            "[3, 6, 9, 12, 18, 21, 24, 27, 33, 36, 39, 42, 48, 51, 54, 57, 63, 66, 69, 72, 78, 81, 84, 87, 93, 96, 99]\n",
            "[5, 10, 20, 25, 35, 40, 50, 55, 65, 70, 80, 85, 95]\n",
            "[1, 2, 4, 7, 8, 11, 13, 14, 16, 17, 19, 22, 23, 26, 28, 29, 31, 32, 34, 37, 38, 41, 43, 44, 46, 47, 49, 52, 53, 56, 58, 59, 61, 62, 64, 67, 68, 71, 73, 74, 76, 77, 79, 82, 83, 86, 88, 89, 91, 92, 94, 97, 98]\n"
          ]
        }
      ]
    },
    {
      "cell_type": "code",
      "source": [
        ""
      ],
      "metadata": {
        "id": "-rxNOylOg1vi"
      },
      "execution_count": null,
      "outputs": []
    }
  ]
}